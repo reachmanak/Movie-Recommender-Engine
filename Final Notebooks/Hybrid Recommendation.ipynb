{
 "cells": [
  {
   "cell_type": "code",
   "execution_count": 1,
   "metadata": {},
   "outputs": [],
   "source": [
    "import pandas as pd\n",
    "import numpy as np\n",
    "import matplotlib.pyplot as plt\n",
    "\n",
    "from surprise import Dataset, Reader\n",
    "from surprise.model_selection import cross_validate\n",
    "from surprise.prediction_algorithms import SVD\n",
    "from surprise.model_selection import GridSearchCV\n",
    "from sklearn.feature_extraction.text import TfidfVectorizer, CountVectorizer\n",
    "from sklearn.metrics.pairwise import linear_kernel, cosine_similarity\n",
    "\n",
    "# Ignore warnings :\n",
    "import warnings\n",
    "warnings.filterwarnings('ignore')"
   ]
  },
  {
   "cell_type": "code",
   "execution_count": 2,
   "metadata": {},
   "outputs": [],
   "source": [
    "# Reading ratings file\n",
    "# Ignore unnecessary columns\n",
    "\n",
    "ratings = pd.read_csv('ratings.csv', sep=',', usecols=['userId', 'movieId', 'rating'])\n",
    "movies = pd.read_csv('movies.csv', sep=',', usecols=[ 'movieId','title', 'genres'])\n",
    "links_map = pd.read_csv('links.csv', sep=',', usecols=[ 'movieId', 'tmdbId'])\n",
    "tmdb_data = pd.read_csv('tmdb_data.csv', sep=',',index_col = False)"
   ]
  },
  {
   "cell_type": "code",
   "execution_count": 3,
   "metadata": {},
   "outputs": [],
   "source": [
    "def convert_int(x):\n",
    "    try:\n",
    "        return int(x)\n",
    "    except:\n",
    "        return np.nan"
   ]
  },
  {
   "cell_type": "code",
   "execution_count": 4,
   "metadata": {},
   "outputs": [],
   "source": [
    "#tmdb_data.drop(['index'], axis=1,inplace=True)"
   ]
  },
  {
   "cell_type": "code",
   "execution_count": 5,
   "metadata": {},
   "outputs": [
    {
     "data": {
      "text/plain": [
       "Index(['adult', 'belongs_to_collection', 'budget', 'genres', 'homepage', 'id',\n",
       "       'imdb_id', 'original_language', 'original_title', 'overview',\n",
       "       'popularity', 'poster_path', 'production_companies',\n",
       "       'production_countries', 'release_date', 'revenue', 'runtime',\n",
       "       'spoken_languages', 'status', 'tagline', 'title', 'video',\n",
       "       'vote_average', 'vote_count', 'year', 'cast', 'crew', 'keywords',\n",
       "       'cast_size', 'crew_size', 'director', 'Film_director', 'metadata'],\n",
       "      dtype='object')"
      ]
     },
     "execution_count": 5,
     "metadata": {},
     "output_type": "execute_result"
    }
   ],
   "source": [
    "tmdb_data.columns"
   ]
  },
  {
   "cell_type": "code",
   "execution_count": 6,
   "metadata": {},
   "outputs": [],
   "source": [
    "count = CountVectorizer(analyzer='word',ngram_range=(1, 2),min_df=0, stop_words='english')\n",
    "count_matrix = count.fit_transform(tmdb_data['metadata'])"
   ]
  },
  {
   "cell_type": "code",
   "execution_count": 7,
   "metadata": {},
   "outputs": [],
   "source": [
    "cosine_sim = cosine_similarity(count_matrix, count_matrix)"
   ]
  },
  {
   "cell_type": "code",
   "execution_count": 8,
   "metadata": {},
   "outputs": [],
   "source": [
    "tmdb_data = tmdb_data.reset_index()\n",
    "titles = tmdb_data['title']\n",
    "indices = pd.Series(tmdb_data.index, index=tmdb_data['title'])"
   ]
  },
  {
   "cell_type": "code",
   "execution_count": 9,
   "metadata": {},
   "outputs": [],
   "source": [
    "links_map['tmdbId'] = links_map['tmdbId'].apply(convert_int)\n",
    "links_map.columns = ['movieId', 'id']\n",
    "links_map = links_map.set_index('id')\n",
    "links_map = links_map.merge(tmdb_data[['title', 'id']], on='id').set_index('title')\n",
    "index_map = links_map.set_index('id')"
   ]
  },
  {
   "cell_type": "code",
   "execution_count": 10,
   "metadata": {},
   "outputs": [
    {
     "name": "stdout",
     "output_type": "stream",
     "text": [
      "<class 'pandas.core.frame.DataFrame'>\n",
      "Index: 3452 entries, Toy Story to Shin Godzilla\n",
      "Data columns (total 2 columns):\n",
      " #   Column   Non-Null Count  Dtype  \n",
      "---  ------   --------------  -----  \n",
      " 0   id       3452 non-null   float64\n",
      " 1   movieId  3452 non-null   int64  \n",
      "dtypes: float64(1), int64(1)\n",
      "memory usage: 80.9+ KB\n"
     ]
    }
   ],
   "source": [
    "links_map.info()"
   ]
  },
  {
   "cell_type": "code",
   "execution_count": 11,
   "metadata": {},
   "outputs": [],
   "source": [
    "#reading in the range of ratings score\n",
    "reader = Reader(rating_scale = (1,5))\n",
    "#loading the dataframe into surprise\n",
    "data = Dataset.load_from_df(ratings[['userId', 'movieId', 'rating']], reader)"
   ]
  },
  {
   "cell_type": "code",
   "execution_count": 12,
   "metadata": {},
   "outputs": [
    {
     "data": {
      "text/plain": [
       "{'test_rmse': array([0.87983523, 0.88629467, 0.87503505]),\n",
       " 'fit_time': (0.47231006622314453, 0.47971630096435547, 0.41410040855407715),\n",
       " 'test_time': (0.17564988136291504, 0.10202479362487793, 0.10299539566040039)}"
      ]
     },
     "execution_count": 12,
     "metadata": {},
     "output_type": "execute_result"
    }
   ],
   "source": [
    "method = SVD()\n",
    "cross_validate(algo=method, data=data, measures=['RMSE'], cv=3)"
   ]
  },
  {
   "cell_type": "code",
   "execution_count": 13,
   "metadata": {},
   "outputs": [
    {
     "name": "stdout",
     "output_type": "stream",
     "text": [
      "Best Score : 86.0\n",
      "Best Parameters : {'n_factors': 75, 'lr_all': 0.05, 'reg_all': 0.06}\n"
     ]
    }
   ],
   "source": [
    "param_grid = {'n_factors' : [50, 75], 'lr_all' : [0.5, 0.05], 'reg_all' : [0.06, 0.04]}\n",
    "\n",
    "grid = GridSearchCV(algo_class=SVD, measures=['RMSE'], param_grid=param_grid,n_jobs = -1)\n",
    "grid.fit(data)\n",
    "\n",
    "# Best RMSE score\n",
    "print('Best Score :', round(grid.best_score['rmse'],2)*100)\n",
    "\n",
    "# Combination of parameters that gave the best RMSE score\n",
    "print('Best Parameters :', grid.best_params['rmse'])"
   ]
  },
  {
   "cell_type": "code",
   "execution_count": 14,
   "metadata": {},
   "outputs": [],
   "source": [
    "dataset = data.build_full_trainset()"
   ]
  },
  {
   "cell_type": "code",
   "execution_count": 15,
   "metadata": {},
   "outputs": [
    {
     "data": {
      "text/plain": [
       "<surprise.prediction_algorithms.matrix_factorization.SVD at 0x21356a3f250>"
      ]
     },
     "execution_count": 15,
     "metadata": {},
     "output_type": "execute_result"
    }
   ],
   "source": [
    "svd = SVD(n_factors= 100, n_epochs = 60, reg_all=0.1, lr_all=0.01)\n",
    "svd.fit(dataset)"
   ]
  },
  {
   "cell_type": "code",
   "execution_count": 16,
   "metadata": {},
   "outputs": [
    {
     "data": {
      "text/plain": [
       "Prediction(uid=1, iid=90, r_ui=None, est=4.278631390501736, details={'was_impossible': False})"
      ]
     },
     "execution_count": 16,
     "metadata": {},
     "output_type": "execute_result"
    }
   ],
   "source": [
    "svd.predict(1, 90)"
   ]
  },
  {
   "cell_type": "code",
   "execution_count": null,
   "metadata": {},
   "outputs": [],
   "source": [
    "tmdb_data.rename(columns = {'vote_count':'Total_votes','vote_average': 'Average_votes'}, inplace = True)\n",
    "tmdb_data.columns"
   ]
  },
  {
   "cell_type": "code",
   "execution_count": 137,
   "metadata": {},
   "outputs": [],
   "source": [
    "def recommendation(userId, title):\n",
    "    idx = indices[title]\n",
    "    tmdbId = links_map.loc[title]['id']\n",
    "    movie_id = links_map.loc[title]['movieId']\n",
    "    sim_scores = list(enumerate(cosine_sim[int(idx)]))\n",
    "    sim_scores = sorted(sim_scores, key=lambda x: x[1], reverse=True)\n",
    "    sim_scores = sim_scores[1:26]\n",
    "    movie_indices = [i[0] for i in sim_scores]\n",
    "    movies = tmdb_data.iloc[movie_indices][['title', 'Total_votes', 'Average_votes', 'Film_director', 'id']]\n",
    "    movies['rating'] = ratings['rating']\n",
    "    movies['est'] = movies['id'].apply(lambda x: svd.predict(userId, index_map.loc[x]['movieId']).est)\n",
    "    movies = round(movies.sort_values('est', ascending=False),2)\n",
    "    return movies.head(10)"
   ]
  },
  {
   "cell_type": "code",
   "execution_count": 142,
   "metadata": {},
   "outputs": [
    {
     "data": {
      "text/html": [
       "<div>\n",
       "<style scoped>\n",
       "    .dataframe tbody tr th:only-of-type {\n",
       "        vertical-align: middle;\n",
       "    }\n",
       "\n",
       "    .dataframe tbody tr th {\n",
       "        vertical-align: top;\n",
       "    }\n",
       "\n",
       "    .dataframe thead th {\n",
       "        text-align: right;\n",
       "    }\n",
       "</style>\n",
       "<table border=\"1\" class=\"dataframe\">\n",
       "  <thead>\n",
       "    <tr style=\"text-align: right;\">\n",
       "      <th></th>\n",
       "      <th>title</th>\n",
       "      <th>Total_votes</th>\n",
       "      <th>Average_votes</th>\n",
       "      <th>Film_director</th>\n",
       "      <th>id</th>\n",
       "      <th>rating</th>\n",
       "      <th>est</th>\n",
       "    </tr>\n",
       "  </thead>\n",
       "  <tbody>\n",
       "    <tr>\n",
       "      <th>284</th>\n",
       "      <td>Aliens</td>\n",
       "      <td>3282.0</td>\n",
       "      <td>7.7</td>\n",
       "      <td>James Cameron</td>\n",
       "      <td>679</td>\n",
       "      <td>0.5</td>\n",
       "      <td>4.26</td>\n",
       "    </tr>\n",
       "    <tr>\n",
       "      <th>306</th>\n",
       "      <td>The Terminator</td>\n",
       "      <td>4208.0</td>\n",
       "      <td>7.4</td>\n",
       "      <td>James Cameron</td>\n",
       "      <td>218</td>\n",
       "      <td>4.0</td>\n",
       "      <td>4.21</td>\n",
       "    </tr>\n",
       "    <tr>\n",
       "      <th>154</th>\n",
       "      <td>Terminator 2: Judgment Day</td>\n",
       "      <td>4274.0</td>\n",
       "      <td>7.7</td>\n",
       "      <td>James Cameron</td>\n",
       "      <td>280</td>\n",
       "      <td>4.0</td>\n",
       "      <td>4.19</td>\n",
       "    </tr>\n",
       "    <tr>\n",
       "      <th>3186</th>\n",
       "      <td>X-Men: Days of Future Past</td>\n",
       "      <td>6155.0</td>\n",
       "      <td>7.5</td>\n",
       "      <td>Bryan Singer</td>\n",
       "      <td>127585</td>\n",
       "      <td>4.0</td>\n",
       "      <td>4.13</td>\n",
       "    </tr>\n",
       "    <tr>\n",
       "      <th>937</th>\n",
       "      <td>Predator</td>\n",
       "      <td>2129.0</td>\n",
       "      <td>7.3</td>\n",
       "      <td>John McTiernan</td>\n",
       "      <td>106</td>\n",
       "      <td>4.0</td>\n",
       "      <td>4.11</td>\n",
       "    </tr>\n",
       "    <tr>\n",
       "      <th>3065</th>\n",
       "      <td>Star Trek Into Darkness</td>\n",
       "      <td>4479.0</td>\n",
       "      <td>7.4</td>\n",
       "      <td>J.J. Abrams</td>\n",
       "      <td>54138</td>\n",
       "      <td>4.0</td>\n",
       "      <td>4.05</td>\n",
       "    </tr>\n",
       "    <tr>\n",
       "      <th>113</th>\n",
       "      <td>True Lies</td>\n",
       "      <td>1138.0</td>\n",
       "      <td>6.8</td>\n",
       "      <td>James Cameron</td>\n",
       "      <td>36955</td>\n",
       "      <td>4.0</td>\n",
       "      <td>4.00</td>\n",
       "    </tr>\n",
       "    <tr>\n",
       "      <th>386</th>\n",
       "      <td>The Fifth Element</td>\n",
       "      <td>3962.0</td>\n",
       "      <td>7.3</td>\n",
       "      <td>Luc Besson</td>\n",
       "      <td>18</td>\n",
       "      <td>4.0</td>\n",
       "      <td>4.00</td>\n",
       "    </tr>\n",
       "    <tr>\n",
       "      <th>722</th>\n",
       "      <td>Superman</td>\n",
       "      <td>1042.0</td>\n",
       "      <td>6.9</td>\n",
       "      <td>Richard Donner</td>\n",
       "      <td>1924</td>\n",
       "      <td>4.0</td>\n",
       "      <td>3.76</td>\n",
       "    </tr>\n",
       "    <tr>\n",
       "      <th>988</th>\n",
       "      <td>Titan A.E.</td>\n",
       "      <td>320.0</td>\n",
       "      <td>6.3</td>\n",
       "      <td>Gary Goldman</td>\n",
       "      <td>7450</td>\n",
       "      <td>4.5</td>\n",
       "      <td>3.66</td>\n",
       "    </tr>\n",
       "  </tbody>\n",
       "</table>\n",
       "</div>"
      ],
      "text/plain": [
       "                           title  Total_votes  Average_votes   Film_director  \\\n",
       "284                       Aliens       3282.0            7.7   James Cameron   \n",
       "306               The Terminator       4208.0            7.4   James Cameron   \n",
       "154   Terminator 2: Judgment Day       4274.0            7.7   James Cameron   \n",
       "3186  X-Men: Days of Future Past       6155.0            7.5    Bryan Singer   \n",
       "937                     Predator       2129.0            7.3  John McTiernan   \n",
       "3065     Star Trek Into Darkness       4479.0            7.4     J.J. Abrams   \n",
       "113                    True Lies       1138.0            6.8   James Cameron   \n",
       "386            The Fifth Element       3962.0            7.3      Luc Besson   \n",
       "722                     Superman       1042.0            6.9  Richard Donner   \n",
       "988                   Titan A.E.        320.0            6.3    Gary Goldman   \n",
       "\n",
       "          id  rating   est  \n",
       "284      679     0.5  4.26  \n",
       "306      218     4.0  4.21  \n",
       "154      280     4.0  4.19  \n",
       "3186  127585     4.0  4.13  \n",
       "937      106     4.0  4.11  \n",
       "3065   54138     4.0  4.05  \n",
       "113    36955     4.0  4.00  \n",
       "386       18     4.0  4.00  \n",
       "722     1924     4.0  3.76  \n",
       "988     7450     4.5  3.66  "
      ]
     },
     "execution_count": 142,
     "metadata": {},
     "output_type": "execute_result"
    }
   ],
   "source": [
    "recommendation(56, \"Avatar\")"
   ]
  },
  {
   "cell_type": "code",
   "execution_count": 147,
   "metadata": {},
   "outputs": [
    {
     "data": {
      "text/html": [
       "<div>\n",
       "<style scoped>\n",
       "    .dataframe tbody tr th:only-of-type {\n",
       "        vertical-align: middle;\n",
       "    }\n",
       "\n",
       "    .dataframe tbody tr th {\n",
       "        vertical-align: top;\n",
       "    }\n",
       "\n",
       "    .dataframe thead th {\n",
       "        text-align: right;\n",
       "    }\n",
       "</style>\n",
       "<table border=\"1\" class=\"dataframe\">\n",
       "  <thead>\n",
       "    <tr style=\"text-align: right;\">\n",
       "      <th></th>\n",
       "      <th>title</th>\n",
       "      <th>Total_votes</th>\n",
       "      <th>Average_votes</th>\n",
       "      <th>Film_director</th>\n",
       "      <th>id</th>\n",
       "      <th>rating</th>\n",
       "      <th>est</th>\n",
       "    </tr>\n",
       "  </thead>\n",
       "  <tbody>\n",
       "    <tr>\n",
       "      <th>154</th>\n",
       "      <td>Terminator 2: Judgment Day</td>\n",
       "      <td>4274.0</td>\n",
       "      <td>7.7</td>\n",
       "      <td>James Cameron</td>\n",
       "      <td>280</td>\n",
       "      <td>4.0</td>\n",
       "      <td>4.02</td>\n",
       "    </tr>\n",
       "    <tr>\n",
       "      <th>306</th>\n",
       "      <td>The Terminator</td>\n",
       "      <td>4208.0</td>\n",
       "      <td>7.4</td>\n",
       "      <td>James Cameron</td>\n",
       "      <td>218</td>\n",
       "      <td>4.0</td>\n",
       "      <td>3.96</td>\n",
       "    </tr>\n",
       "    <tr>\n",
       "      <th>284</th>\n",
       "      <td>Aliens</td>\n",
       "      <td>3282.0</td>\n",
       "      <td>7.7</td>\n",
       "      <td>James Cameron</td>\n",
       "      <td>679</td>\n",
       "      <td>0.5</td>\n",
       "      <td>3.89</td>\n",
       "    </tr>\n",
       "    <tr>\n",
       "      <th>2603</th>\n",
       "      <td>Avatar</td>\n",
       "      <td>12114.0</td>\n",
       "      <td>7.2</td>\n",
       "      <td>James Cameron</td>\n",
       "      <td>19995</td>\n",
       "      <td>3.0</td>\n",
       "      <td>3.77</td>\n",
       "    </tr>\n",
       "    <tr>\n",
       "      <th>822</th>\n",
       "      <td>Thunderball</td>\n",
       "      <td>572.0</td>\n",
       "      <td>6.5</td>\n",
       "      <td>Terence Young</td>\n",
       "      <td>660</td>\n",
       "      <td>4.0</td>\n",
       "      <td>3.70</td>\n",
       "    </tr>\n",
       "    <tr>\n",
       "      <th>113</th>\n",
       "      <td>True Lies</td>\n",
       "      <td>1138.0</td>\n",
       "      <td>6.8</td>\n",
       "      <td>James Cameron</td>\n",
       "      <td>36955</td>\n",
       "      <td>4.0</td>\n",
       "      <td>3.67</td>\n",
       "    </tr>\n",
       "    <tr>\n",
       "      <th>2597</th>\n",
       "      <td>Planet 51</td>\n",
       "      <td>573.0</td>\n",
       "      <td>5.6</td>\n",
       "      <td>Jorge Blanco</td>\n",
       "      <td>16866</td>\n",
       "      <td>1.0</td>\n",
       "      <td>3.65</td>\n",
       "    </tr>\n",
       "    <tr>\n",
       "      <th>977</th>\n",
       "      <td>Mad Max</td>\n",
       "      <td>1235.0</td>\n",
       "      <td>6.6</td>\n",
       "      <td>George Miller</td>\n",
       "      <td>9659</td>\n",
       "      <td>2.0</td>\n",
       "      <td>3.62</td>\n",
       "    </tr>\n",
       "    <tr>\n",
       "      <th>893</th>\n",
       "      <td>Pitch Black</td>\n",
       "      <td>1812.0</td>\n",
       "      <td>6.7</td>\n",
       "      <td>David Twohy</td>\n",
       "      <td>2787</td>\n",
       "      <td>3.0</td>\n",
       "      <td>3.54</td>\n",
       "    </tr>\n",
       "    <tr>\n",
       "      <th>2346</th>\n",
       "      <td>Doomsday</td>\n",
       "      <td>374.0</td>\n",
       "      <td>5.8</td>\n",
       "      <td>Neil Marshall</td>\n",
       "      <td>13460</td>\n",
       "      <td>3.0</td>\n",
       "      <td>3.53</td>\n",
       "    </tr>\n",
       "  </tbody>\n",
       "</table>\n",
       "</div>"
      ],
      "text/plain": [
       "                           title  Total_votes  Average_votes  Film_director  \\\n",
       "154   Terminator 2: Judgment Day       4274.0            7.7  James Cameron   \n",
       "306               The Terminator       4208.0            7.4  James Cameron   \n",
       "284                       Aliens       3282.0            7.7  James Cameron   \n",
       "2603                      Avatar      12114.0            7.2  James Cameron   \n",
       "822                  Thunderball        572.0            6.5  Terence Young   \n",
       "113                    True Lies       1138.0            6.8  James Cameron   \n",
       "2597                   Planet 51        573.0            5.6   Jorge Blanco   \n",
       "977                      Mad Max       1235.0            6.6  George Miller   \n",
       "893                  Pitch Black       1812.0            6.7    David Twohy   \n",
       "2346                    Doomsday        374.0            5.8  Neil Marshall   \n",
       "\n",
       "         id  rating   est  \n",
       "154     280     4.0  4.02  \n",
       "306     218     4.0  3.96  \n",
       "284     679     0.5  3.89  \n",
       "2603  19995     3.0  3.77  \n",
       "822     660     4.0  3.70  \n",
       "113   36955     4.0  3.67  \n",
       "2597  16866     1.0  3.65  \n",
       "977    9659     2.0  3.62  \n",
       "893    2787     3.0  3.54  \n",
       "2346  13460     3.0  3.53  "
      ]
     },
     "execution_count": 147,
     "metadata": {},
     "output_type": "execute_result"
    }
   ],
   "source": [
    "recommendation(2, \"The Abyss\")"
   ]
  },
  {
   "cell_type": "code",
   "execution_count": 89,
   "metadata": {},
   "outputs": [],
   "source": [
    "def recommendation2(userId, title):\n",
    "    idx = indices[title]\n",
    "    tmdbId = links_map.loc[title]['id']\n",
    "    movie_id = links_map.loc[title]['movieId']\n",
    "    sim_scores = list(enumerate(cosine_sim[int(idx)]))\n",
    "    sim_scores = sorted(sim_scores, key=lambda x: x[1], reverse=True)\n",
    "    sim_scores = sim_scores[1:26]\n",
    "    movie_indices = [i[0] for i in sim_scores]\n",
    "    movies = tmdb_data.iloc[movie_indices][['title', 'vote_count', 'vote_average', 'release_date', 'Film_director', 'id']]\n",
    "    movies['rating'] = ratings['rating']\n",
    "    movies['est'] = movies['id'].apply(lambda x: svd.predict(userId, index_map.loc[x]['movieId']).est)\n",
    "    movies = round(movies.sort_values('est', ascending=False),2)\n",
    "    return movies.head(10)"
   ]
  },
  {
   "cell_type": "code",
   "execution_count": 105,
   "metadata": {},
   "outputs": [
    {
     "data": {
      "text/html": [
       "<div>\n",
       "<style scoped>\n",
       "    .dataframe tbody tr th:only-of-type {\n",
       "        vertical-align: middle;\n",
       "    }\n",
       "\n",
       "    .dataframe tbody tr th {\n",
       "        vertical-align: top;\n",
       "    }\n",
       "\n",
       "    .dataframe thead th {\n",
       "        text-align: right;\n",
       "    }\n",
       "</style>\n",
       "<table border=\"1\" class=\"dataframe\">\n",
       "  <thead>\n",
       "    <tr style=\"text-align: right;\">\n",
       "      <th></th>\n",
       "      <th>adult</th>\n",
       "      <th>belongs_to_collection</th>\n",
       "      <th>budget</th>\n",
       "      <th>genres</th>\n",
       "      <th>homepage</th>\n",
       "      <th>id</th>\n",
       "      <th>imdb_id</th>\n",
       "      <th>original_language</th>\n",
       "      <th>original_title</th>\n",
       "      <th>overview</th>\n",
       "      <th>popularity</th>\n",
       "      <th>poster_path</th>\n",
       "      <th>production_companies</th>\n",
       "      <th>production_countries</th>\n",
       "      <th>release_date</th>\n",
       "      <th>revenue</th>\n",
       "      <th>runtime</th>\n",
       "      <th>spoken_languages</th>\n",
       "      <th>status</th>\n",
       "      <th>tagline</th>\n",
       "      <th>title</th>\n",
       "      <th>video</th>\n",
       "      <th>vote_average</th>\n",
       "      <th>vote_count</th>\n",
       "      <th>year</th>\n",
       "      <th>cast</th>\n",
       "      <th>crew</th>\n",
       "      <th>keywords</th>\n",
       "      <th>cast_size</th>\n",
       "      <th>crew_size</th>\n",
       "      <th>director</th>\n",
       "      <th>Film_director</th>\n",
       "      <th>metadata</th>\n",
       "      <th>rating</th>\n",
       "      <th>userId</th>\n",
       "    </tr>\n",
       "  </thead>\n",
       "  <tbody>\n",
       "    <tr>\n",
       "      <th>0</th>\n",
       "      <td>False</td>\n",
       "      <td>{'id': 10194, 'name': 'Toy Story Collection', ...</td>\n",
       "      <td>30000000</td>\n",
       "      <td>['Animation', 'Comedy', 'Family']</td>\n",
       "      <td>http://toystory.disney.com/toy-story</td>\n",
       "      <td>862</td>\n",
       "      <td>tt0114709</td>\n",
       "      <td>en</td>\n",
       "      <td>Toy Story</td>\n",
       "      <td>Led by Woody, Andy's toys live happily in his ...</td>\n",
       "      <td>21.946943</td>\n",
       "      <td>/rhIRbceoE9lR4veEXuwCC2wARtG.jpg</td>\n",
       "      <td>[{'name': 'Pixar Animation Studios', 'id': 3}]</td>\n",
       "      <td>[{'iso_3166_1': 'US', 'name': 'United States o...</td>\n",
       "      <td>1995-10-30</td>\n",
       "      <td>373554033.0</td>\n",
       "      <td>81.0</td>\n",
       "      <td>[{'iso_639_1': 'en', 'name': 'English'}]</td>\n",
       "      <td>Released</td>\n",
       "      <td>NaN</td>\n",
       "      <td>Toy Story</td>\n",
       "      <td>False</td>\n",
       "      <td>7.7</td>\n",
       "      <td>5415.0</td>\n",
       "      <td>1995</td>\n",
       "      <td>['tomhanks', 'timallen', 'donrickles']</td>\n",
       "      <td>[{'credit_id': '52fe4284c3a36847f8024f55', 'de...</td>\n",
       "      <td>['jealousi', 'toy', 'boy', 'friendship', 'frie...</td>\n",
       "      <td>13</td>\n",
       "      <td>106</td>\n",
       "      <td>['johnlasseter', 'johnlasseter', 'johnlasseter']</td>\n",
       "      <td>John Lasseter</td>\n",
       "      <td>jealousi toy boy friendship friend rivalri new...</td>\n",
       "      <td>4.0</td>\n",
       "      <td>1</td>\n",
       "    </tr>\n",
       "  </tbody>\n",
       "</table>\n",
       "</div>"
      ],
      "text/plain": [
       "   adult                              belongs_to_collection    budget  \\\n",
       "0  False  {'id': 10194, 'name': 'Toy Story Collection', ...  30000000   \n",
       "\n",
       "                              genres                              homepage  \\\n",
       "0  ['Animation', 'Comedy', 'Family']  http://toystory.disney.com/toy-story   \n",
       "\n",
       "    id    imdb_id original_language original_title  \\\n",
       "0  862  tt0114709                en      Toy Story   \n",
       "\n",
       "                                            overview  popularity  \\\n",
       "0  Led by Woody, Andy's toys live happily in his ...   21.946943   \n",
       "\n",
       "                        poster_path  \\\n",
       "0  /rhIRbceoE9lR4veEXuwCC2wARtG.jpg   \n",
       "\n",
       "                             production_companies  \\\n",
       "0  [{'name': 'Pixar Animation Studios', 'id': 3}]   \n",
       "\n",
       "                                production_countries release_date  \\\n",
       "0  [{'iso_3166_1': 'US', 'name': 'United States o...   1995-10-30   \n",
       "\n",
       "       revenue  runtime                          spoken_languages    status  \\\n",
       "0  373554033.0     81.0  [{'iso_639_1': 'en', 'name': 'English'}]  Released   \n",
       "\n",
       "  tagline      title  video  vote_average  vote_count  year  \\\n",
       "0     NaN  Toy Story  False           7.7      5415.0  1995   \n",
       "\n",
       "                                     cast  \\\n",
       "0  ['tomhanks', 'timallen', 'donrickles']   \n",
       "\n",
       "                                                crew  \\\n",
       "0  [{'credit_id': '52fe4284c3a36847f8024f55', 'de...   \n",
       "\n",
       "                                            keywords  cast_size  crew_size  \\\n",
       "0  ['jealousi', 'toy', 'boy', 'friendship', 'frie...         13        106   \n",
       "\n",
       "                                           director  Film_director  \\\n",
       "0  ['johnlasseter', 'johnlasseter', 'johnlasseter']  John Lasseter   \n",
       "\n",
       "                                            metadata  rating  userId  \n",
       "0  jealousi toy boy friendship friend rivalri new...     4.0       1  "
      ]
     },
     "execution_count": 105,
     "metadata": {},
     "output_type": "execute_result"
    }
   ],
   "source": [
    "pd.set_option('display.max_columns', None)\n",
    "tmdb_data.head(1)"
   ]
  },
  {
   "cell_type": "code",
   "execution_count": 108,
   "metadata": {},
   "outputs": [
    {
     "data": {
      "text/plain": [
       "Index(['adult', 'belongs_to_collection', 'budget', 'genres', 'homepage', 'id',\n",
       "       'imdb_id', 'original_language', 'original_title', 'overview',\n",
       "       'popularity', 'poster_path', 'production_companies',\n",
       "       'production_countries', 'release_date', 'revenue', 'runtime',\n",
       "       'spoken_languages', 'status', 'tagline', 'title', 'video',\n",
       "       'vote_average', 'vote_count', 'year', 'cast', 'crew', 'keywords',\n",
       "       'cast_size', 'crew_size', 'director', 'Film_director', 'metadata',\n",
       "       'rating', 'userId'],\n",
       "      dtype='object')"
      ]
     },
     "execution_count": 108,
     "metadata": {},
     "output_type": "execute_result"
    }
   ],
   "source": [
    "tmdb_data.columns"
   ]
  },
  {
   "cell_type": "code",
   "execution_count": 98,
   "metadata": {},
   "outputs": [],
   "source": [
    "tmdb_data['rating'] = ratings['rating']\n",
    "tmdb_data['userId'] = ratings['userId']"
   ]
  },
  {
   "cell_type": "code",
   "execution_count": 106,
   "metadata": {},
   "outputs": [
    {
     "data": {
      "text/html": [
       "<div>\n",
       "<style scoped>\n",
       "    .dataframe tbody tr th:only-of-type {\n",
       "        vertical-align: middle;\n",
       "    }\n",
       "\n",
       "    .dataframe tbody tr th {\n",
       "        vertical-align: top;\n",
       "    }\n",
       "\n",
       "    .dataframe thead th {\n",
       "        text-align: right;\n",
       "    }\n",
       "</style>\n",
       "<table border=\"1\" class=\"dataframe\">\n",
       "  <thead>\n",
       "    <tr style=\"text-align: right;\">\n",
       "      <th></th>\n",
       "      <th>title</th>\n",
       "      <th>vote_count</th>\n",
       "      <th>vote_average</th>\n",
       "      <th>release_date</th>\n",
       "      <th>Film_director</th>\n",
       "      <th>id</th>\n",
       "      <th>rating</th>\n",
       "      <th>est</th>\n",
       "    </tr>\n",
       "  </thead>\n",
       "  <tbody>\n",
       "    <tr>\n",
       "      <th>154</th>\n",
       "      <td>Terminator 2: Judgment Day</td>\n",
       "      <td>4274.0</td>\n",
       "      <td>7.7</td>\n",
       "      <td>1991-07-01</td>\n",
       "      <td>James Cameron</td>\n",
       "      <td>280</td>\n",
       "      <td>4.0</td>\n",
       "      <td>4.02</td>\n",
       "    </tr>\n",
       "    <tr>\n",
       "      <th>306</th>\n",
       "      <td>The Terminator</td>\n",
       "      <td>4208.0</td>\n",
       "      <td>7.4</td>\n",
       "      <td>1984-10-26</td>\n",
       "      <td>James Cameron</td>\n",
       "      <td>218</td>\n",
       "      <td>4.0</td>\n",
       "      <td>3.96</td>\n",
       "    </tr>\n",
       "    <tr>\n",
       "      <th>3186</th>\n",
       "      <td>X-Men: Days of Future Past</td>\n",
       "      <td>6155.0</td>\n",
       "      <td>7.5</td>\n",
       "      <td>2014-05-15</td>\n",
       "      <td>Bryan Singer</td>\n",
       "      <td>127585</td>\n",
       "      <td>4.0</td>\n",
       "      <td>3.96</td>\n",
       "    </tr>\n",
       "    <tr>\n",
       "      <th>386</th>\n",
       "      <td>The Fifth Element</td>\n",
       "      <td>3962.0</td>\n",
       "      <td>7.3</td>\n",
       "      <td>1997-05-07</td>\n",
       "      <td>Luc Besson</td>\n",
       "      <td>18</td>\n",
       "      <td>4.0</td>\n",
       "      <td>3.92</td>\n",
       "    </tr>\n",
       "    <tr>\n",
       "      <th>284</th>\n",
       "      <td>Aliens</td>\n",
       "      <td>3282.0</td>\n",
       "      <td>7.7</td>\n",
       "      <td>1986-07-18</td>\n",
       "      <td>James Cameron</td>\n",
       "      <td>679</td>\n",
       "      <td>0.5</td>\n",
       "      <td>3.89</td>\n",
       "    </tr>\n",
       "    <tr>\n",
       "      <th>3065</th>\n",
       "      <td>Star Trek Into Darkness</td>\n",
       "      <td>4479.0</td>\n",
       "      <td>7.4</td>\n",
       "      <td>2013-05-05</td>\n",
       "      <td>J.J. Abrams</td>\n",
       "      <td>54138</td>\n",
       "      <td>4.0</td>\n",
       "      <td>3.81</td>\n",
       "    </tr>\n",
       "    <tr>\n",
       "      <th>937</th>\n",
       "      <td>Predator</td>\n",
       "      <td>2129.0</td>\n",
       "      <td>7.3</td>\n",
       "      <td>1987-06-11</td>\n",
       "      <td>John McTiernan</td>\n",
       "      <td>106</td>\n",
       "      <td>4.0</td>\n",
       "      <td>3.80</td>\n",
       "    </tr>\n",
       "    <tr>\n",
       "      <th>113</th>\n",
       "      <td>True Lies</td>\n",
       "      <td>1138.0</td>\n",
       "      <td>6.8</td>\n",
       "      <td>1994-07-14</td>\n",
       "      <td>James Cameron</td>\n",
       "      <td>36955</td>\n",
       "      <td>4.0</td>\n",
       "      <td>3.67</td>\n",
       "    </tr>\n",
       "    <tr>\n",
       "      <th>722</th>\n",
       "      <td>Superman</td>\n",
       "      <td>1042.0</td>\n",
       "      <td>6.9</td>\n",
       "      <td>1978-12-13</td>\n",
       "      <td>Richard Donner</td>\n",
       "      <td>1924</td>\n",
       "      <td>4.0</td>\n",
       "      <td>3.64</td>\n",
       "    </tr>\n",
       "    <tr>\n",
       "      <th>988</th>\n",
       "      <td>Titan A.E.</td>\n",
       "      <td>320.0</td>\n",
       "      <td>6.3</td>\n",
       "      <td>2000-06-16</td>\n",
       "      <td>Gary Goldman</td>\n",
       "      <td>7450</td>\n",
       "      <td>4.5</td>\n",
       "      <td>3.63</td>\n",
       "    </tr>\n",
       "  </tbody>\n",
       "</table>\n",
       "</div>"
      ],
      "text/plain": [
       "                           title  vote_count  vote_average release_date  \\\n",
       "154   Terminator 2: Judgment Day      4274.0           7.7   1991-07-01   \n",
       "306               The Terminator      4208.0           7.4   1984-10-26   \n",
       "3186  X-Men: Days of Future Past      6155.0           7.5   2014-05-15   \n",
       "386            The Fifth Element      3962.0           7.3   1997-05-07   \n",
       "284                       Aliens      3282.0           7.7   1986-07-18   \n",
       "3065     Star Trek Into Darkness      4479.0           7.4   2013-05-05   \n",
       "937                     Predator      2129.0           7.3   1987-06-11   \n",
       "113                    True Lies      1138.0           6.8   1994-07-14   \n",
       "722                     Superman      1042.0           6.9   1978-12-13   \n",
       "988                   Titan A.E.       320.0           6.3   2000-06-16   \n",
       "\n",
       "       Film_director      id  rating   est  \n",
       "154    James Cameron     280     4.0  4.02  \n",
       "306    James Cameron     218     4.0  3.96  \n",
       "3186    Bryan Singer  127585     4.0  3.96  \n",
       "386       Luc Besson      18     4.0  3.92  \n",
       "284    James Cameron     679     0.5  3.89  \n",
       "3065     J.J. Abrams   54138     4.0  3.81  \n",
       "937   John McTiernan     106     4.0  3.80  \n",
       "113    James Cameron   36955     4.0  3.67  \n",
       "722   Richard Donner    1924     4.0  3.64  \n",
       "988     Gary Goldman    7450     4.5  3.63  "
      ]
     },
     "execution_count": 106,
     "metadata": {},
     "output_type": "execute_result"
    }
   ],
   "source": [
    "recommendation2(2, \"Avatar\")"
   ]
  },
  {
   "cell_type": "code",
   "execution_count": 107,
   "metadata": {},
   "outputs": [],
   "source": [
    "pickle.dump(tmdb_data,open('tmdb_data.pkl','wb'))\n",
    "pickle.dump(cosine_sim,open('similarity.pkl','wb'))"
   ]
  },
  {
   "cell_type": "code",
   "execution_count": null,
   "metadata": {},
   "outputs": [],
   "source": []
  },
  {
   "cell_type": "code",
   "execution_count": null,
   "metadata": {},
   "outputs": [],
   "source": []
  },
  {
   "cell_type": "code",
   "execution_count": null,
   "metadata": {},
   "outputs": [],
   "source": []
  },
  {
   "cell_type": "code",
   "execution_count": null,
   "metadata": {},
   "outputs": [],
   "source": []
  },
  {
   "cell_type": "code",
   "execution_count": null,
   "metadata": {},
   "outputs": [],
   "source": []
  },
  {
   "cell_type": "code",
   "execution_count": null,
   "metadata": {},
   "outputs": [],
   "source": []
  },
  {
   "cell_type": "code",
   "execution_count": 52,
   "metadata": {},
   "outputs": [],
   "source": [
    "# saving the model\n",
    "import pickle\n",
    "\n",
    "# saving the columns\n",
    "model_columns = list(tmdb_data.columns)\n",
    "with open('model_columns.pkl','wb') as file:\n",
    "    pickle.dump(model_columns, file)\n",
    "    \n",
    "    \n",
    "pickle.dump(svd, open('svd.pkl', 'wb'))"
   ]
  },
  {
   "cell_type": "code",
   "execution_count": 21,
   "metadata": {},
   "outputs": [],
   "source": [
    "import pickle\n",
    "import pandas as pd\n",
    "import streamlit as st\n",
    "from streamlit import session_state as session\n",
    "st.set_page_config(page_title=\"Movie Recommendation\", layout=\"wide\")\n",
    "import streamlit.components.v1 as components"
   ]
  },
  {
   "cell_type": "code",
   "execution_count": 22,
   "metadata": {},
   "outputs": [
    {
     "data": {
      "text/plain": [
       "<function streamlit.runtime.legacy_caching.caching.cache.<locals>.wrapper(f: ~F) -> ~F>"
      ]
     },
     "execution_count": 22,
     "metadata": {},
     "output_type": "execute_result"
    }
   ],
   "source": [
    "st.cache(allow_output_mutation=True)"
   ]
  },
  {
   "cell_type": "code",
   "execution_count": null,
   "metadata": {},
   "outputs": [
    {
     "name": "stderr",
     "output_type": "stream",
     "text": [
      "2023-03-29 20:17:32.301 \n",
      "  \u001b[33m\u001b[1mWarning:\u001b[0m to view this Streamlit app on a browser, run it with the following\n",
      "  command:\n",
      "\n",
      "    streamlit run c:\\Users\\Manak\\anaconda3\\lib\\site-packages\\ipykernel_launcher.py [ARGUMENTS]\n"
     ]
    },
    {
     "ename": "AttributeError",
     "evalue": "__enter__",
     "output_type": "error",
     "traceback": [
      "\u001b[1;31m---------------------------------------------------------------------------\u001b[0m",
      "\u001b[1;31mAttributeError\u001b[0m                            Traceback (most recent call last)",
      "Cell \u001b[1;32mIn[7], line 7\u001b[0m\n\u001b[0;32m      5\u001b[0m \u001b[39mwith\u001b[39;00m st\u001b[39m.\u001b[39mcontainer():\n\u001b[0;32m      6\u001b[0m     col3 \u001b[39m=\u001b[39m st\u001b[39m.\u001b[39mcolumns((\u001b[39m2\u001b[39m,\u001b[39m0.5\u001b[39m,\u001b[39m0.5\u001b[39m,\u001b[39m0.5\u001b[39m))\n\u001b[1;32m----> 7\u001b[0m     \u001b[39mwith\u001b[39;00m col3:\n\u001b[0;32m      8\u001b[0m         st\u001b[39m.\u001b[39mmarkdown(\u001b[39m\"\u001b[39m\u001b[39m***Choose your movie:***\u001b[39m\u001b[39m\"\u001b[39m)\n\u001b[0;32m      9\u001b[0m         movie \u001b[39m=\u001b[39m st\u001b[39m.\u001b[39mtitle(\n\u001b[0;32m     10\u001b[0m             \u001b[39m\"\u001b[39m\u001b[39m\"\u001b[39m,\n\u001b[0;32m     11\u001b[0m             title)\n",
      "\u001b[1;31mAttributeError\u001b[0m: __enter__"
     ]
    }
   ],
   "source": [
    "title = \"Movie Recommendation Engine\"\n",
    "st.title(title)\n",
    "st.write(\"Welcome! You can get recommendation of movies based on title of the movie\")\n",
    "st.markdown(\"##\")\n",
    "with st.container():\n",
    "    col3 = st.columns((2,0.5,0.5,0.5))\n",
    "    with col3:\n",
    "        st.markdown(\"***Choose your movie:***\")\n",
    "        movie = st.title(\n",
    "            \"\",\n",
    "            title)"
   ]
  },
  {
   "cell_type": "code",
   "execution_count": null,
   "metadata": {},
   "outputs": [
    {
     "ename": "SyntaxError",
     "evalue": "invalid syntax (3737097518.py, line 1)",
     "output_type": "error",
     "traceback": [
      "\u001b[1;36m  Cell \u001b[1;32mIn[8], line 1\u001b[1;36m\u001b[0m\n\u001b[1;33m    streamlit run app.py\u001b[0m\n\u001b[1;37m              ^\u001b[0m\n\u001b[1;31mSyntaxError\u001b[0m\u001b[1;31m:\u001b[0m invalid syntax\n"
     ]
    }
   ],
   "source": [
    "streamlit run app.py"
   ]
  },
  {
   "cell_type": "code",
   "execution_count": null,
   "metadata": {},
   "outputs": [],
   "source": []
  }
 ],
 "metadata": {
  "kernelspec": {
   "display_name": "base",
   "language": "python",
   "name": "python3"
  },
  "language_info": {
   "codemirror_mode": {
    "name": "ipython",
    "version": 3
   },
   "file_extension": ".py",
   "mimetype": "text/x-python",
   "name": "python",
   "nbconvert_exporter": "python",
   "pygments_lexer": "ipython3",
   "version": "3.10.9"
  },
  "orig_nbformat": 4,
  "vscode": {
   "interpreter": {
    "hash": "b8a675b01ac74d998031ba1ba36901ebfbdafffea0f87747ee6cc0eb26939ad1"
   }
  }
 },
 "nbformat": 4,
 "nbformat_minor": 2
}
